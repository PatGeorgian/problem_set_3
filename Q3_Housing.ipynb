{
 "cells": [
  {
   "cell_type": "code",
   "execution_count": 7,
   "id": "96a62152-4567-4280-9c9f-5a6b49d289ec",
   "metadata": {},
   "outputs": [],
   "source": [
    "# Step 1. Import the necessary libraries\n",
    "\n",
    "import pandas as pd\n",
    "import numpy as np\n",
    "\n"
   ]
  },
  {
   "cell_type": "code",
   "execution_count": 9,
   "id": "40bbfe0f-acca-4bf3-9d67-b886dfc0ad42",
   "metadata": {},
   "outputs": [],
   "source": [
    "# Step 2. Create 3 different Series, each of length 100, as follows:\n",
    "# The first a random number from 1 to 4\n",
    "# The second a random number from 1 to 3\n",
    "# The third a random number from 10,000 to 30,000\n",
    "\n",
    "np.random.seed(42)  # Ensures reproducibility of random numbers\n",
    "series1 = pd.Series(np.random.randint(1, 5, 100))\n",
    "series2 = pd.Series(np.random.randint(1, 4, 100))\n",
    "series3 = pd.Series(np.random.randint(10000, 30001, 100))\n",
    "\n"
   ]
  },
  {
   "cell_type": "code",
   "execution_count": 11,
   "id": "4c7c6c71-3f82-48e1-9fa3-e5ffa96e7729",
   "metadata": {},
   "outputs": [],
   "source": [
    "# Step 3\n",
    "# Create a DataFrame by joinning the Series by column\n",
    "\n",
    "df = pd.concat([series1, series2, series3], axis=1)\n"
   ]
  },
  {
   "cell_type": "code",
   "execution_count": 13,
   "id": "7fea422c-7ba1-4d24-90a6-6be7bd48c647",
   "metadata": {},
   "outputs": [
    {
     "name": "stdout",
     "output_type": "stream",
     "text": [
      "   bedrs  bathrs  price_sqr_meter\n",
      "0      3       3            23931\n",
      "1      4       2            13627\n",
      "2      1       2            26157\n",
      "3      3       2            20173\n",
      "4      3       2            28047\n"
     ]
    }
   ],
   "source": [
    "# Step 4\n",
    "# Change the name of the columns to bedrs, bathrs, price_sqr_meter\n",
    "df.columns = ['bedrs', 'bathrs', 'price_sqr_meter']\n",
    "print(df.head())  # View the first few rows\n"
   ]
  },
  {
   "cell_type": "code",
   "execution_count": 15,
   "id": "c2173deb-6595-4106-8c5e-8daf181daac8",
   "metadata": {},
   "outputs": [
    {
     "name": "stdout",
     "output_type": "stream",
     "text": [
      "   bigcolumn\n",
      "0          3\n",
      "1          4\n",
      "2          1\n",
      "3          3\n",
      "4          3\n"
     ]
    }
   ],
   "source": [
    "# Step 5 \n",
    "# Create a one column DataFrame with the values of the 3 Series and assign it to 'bigcolumn'\n",
    "\n",
    "bigcolumn = pd.concat([series1, series2, series3], axis=0).reset_index(drop=True).to_frame(name='bigcolumn')\n",
    "print(bigcolumn.head())  # View the first few rows\n"
   ]
  },
  {
   "cell_type": "code",
   "execution_count": 19,
   "id": "38b7a72e-2202-442f-a8aa-179060acff85",
   "metadata": {},
   "outputs": [
    {
     "name": "stdout",
     "output_type": "stream",
     "text": [
      "RangeIndex(start=0, stop=300, step=1)\n"
     ]
    }
   ],
   "source": [
    "# Step 6 \n",
    "# Ops it seems it is going only until index 99. Is it true?\n",
    "\n",
    "print(bigcolumn.index)  # Verify the range of indices\n"
   ]
  },
  {
   "cell_type": "code",
   "execution_count": 21,
   "id": "4431bfe4-a9da-4cef-b744-11da3e7c5634",
   "metadata": {},
   "outputs": [
    {
     "name": "stdout",
     "output_type": "stream",
     "text": [
      "     bigcolumn\n",
      "0            3\n",
      "1            4\n",
      "2            1\n",
      "3            3\n",
      "4            3\n",
      "..         ...\n",
      "295      11154\n",
      "296      14499\n",
      "297      16295\n",
      "298      22183\n",
      "299      22874\n",
      "\n",
      "[300 rows x 1 columns]\n"
     ]
    }
   ],
   "source": [
    "# Step 7 \n",
    "# Reindex the DataFrame so it goes from 0 to 299\n",
    "\n",
    "bigcolumn = bigcolumn.reset_index(drop=True)\n",
    "print(bigcolumn)  # View the updated DataFrame\n"
   ]
  },
  {
   "cell_type": "code",
   "execution_count": null,
   "id": "ea7b54ec-25d5-4937-9123-b30598043371",
   "metadata": {},
   "outputs": [],
   "source": []
  }
 ],
 "metadata": {
  "kernelspec": {
   "display_name": "anaconda-2024.02-py310",
   "language": "python",
   "name": "conda-env-anaconda-2024.02-py310-py"
  },
  "language_info": {
   "codemirror_mode": {
    "name": "ipython",
    "version": 3
   },
   "file_extension": ".py",
   "mimetype": "text/x-python",
   "name": "python",
   "nbconvert_exporter": "python",
   "pygments_lexer": "ipython3",
   "version": "3.10.14"
  }
 },
 "nbformat": 4,
 "nbformat_minor": 5
}
