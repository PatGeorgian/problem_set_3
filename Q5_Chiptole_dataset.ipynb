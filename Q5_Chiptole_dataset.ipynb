{
 "cells": [
  {
   "cell_type": "code",
   "execution_count": 36,
   "id": "2be3107e-8024-47bf-a1b3-013b84543578",
   "metadata": {},
   "outputs": [],
   "source": [
    "import pandas as pd\n"
   ]
  },
  {
   "cell_type": "code",
   "execution_count": 38,
   "id": "a950be71-ba1d-4082-a387-f564b25e6c7b",
   "metadata": {},
   "outputs": [],
   "source": [
    "# Step 2 \n",
    "# Import the dataset\n",
    "\n",
    "url = \"https://raw.githubusercontent.com/justmarkham/DAT8/master/data/chipotle.tsv\"\n",
    "chipo = pd.read_csv(url, sep=\"\\t\")"
   ]
  },
  {
   "cell_type": "code",
   "execution_count": 40,
   "id": "0a909913-886d-4b09-be5b-8a61a1477f77",
   "metadata": {},
   "outputs": [
    {
     "name": "stdout",
     "output_type": "stream",
     "text": [
      "   order_id  quantity                              item_name  \\\n",
      "0         1         1           Chips and Fresh Tomato Salsa   \n",
      "1         1         1                                   Izze   \n",
      "2         1         1                       Nantucket Nectar   \n",
      "3         1         1  Chips and Tomatillo-Green Chili Salsa   \n",
      "4         2         2                           Chicken Bowl   \n",
      "5         3         1                           Chicken Bowl   \n",
      "6         3         1                          Side of Chips   \n",
      "7         4         1                          Steak Burrito   \n",
      "8         4         1                       Steak Soft Tacos   \n",
      "9         5         1                          Steak Burrito   \n",
      "\n",
      "                                  choice_description item_price  \n",
      "0                                                NaN     $2.39   \n",
      "1                                       [Clementine]     $3.39   \n",
      "2                                            [Apple]     $3.39   \n",
      "3                                                NaN     $2.39   \n",
      "4  [Tomatillo-Red Chili Salsa (Hot), [Black Beans...    $16.98   \n",
      "5  [Fresh Tomato Salsa (Mild), [Rice, Cheese, Sou...    $10.98   \n",
      "6                                                NaN     $1.69   \n",
      "7  [Tomatillo Red Chili Salsa, [Fajita Vegetables...    $11.75   \n",
      "8  [Tomatillo Green Chili Salsa, [Pinto Beans, Ch...     $9.25   \n",
      "9  [Fresh Tomato Salsa, [Rice, Black Beans, Pinto...     $9.25   \n"
     ]
    }
   ],
   "source": [
    "# Step 4\n",
    "# See the first 10 entries\n",
    "\n",
    "print(chipo.head(10))\n"
   ]
  },
  {
   "cell_type": "code",
   "execution_count": 42,
   "id": "ba69fd8b-0d6b-46f2-a9a1-fdc4a2482869",
   "metadata": {},
   "outputs": [
    {
     "name": "stdout",
     "output_type": "stream",
     "text": [
      "Number of observations: 4622\n"
     ]
    }
   ],
   "source": [
    "# Step 5\n",
    "# Number of observations\n",
    "\n",
    "num_observations = chipo.shape[0]\n",
    "print(\"Number of observations:\", num_observations)\n"
   ]
  },
  {
   "cell_type": "code",
   "execution_count": 44,
   "id": "cf46ca79-34dd-49ea-8190-c87094d58953",
   "metadata": {},
   "outputs": [
    {
     "name": "stdout",
     "output_type": "stream",
     "text": [
      "Number of columns: 5\n"
     ]
    }
   ],
   "source": [
    "# Step 6\n",
    "# Number of columns\n",
    "\n",
    "num_columns = chipo.shape[1]\n",
    "print(\"Number of columns:\", num_columns)"
   ]
  },
  {
   "cell_type": "code",
   "execution_count": 46,
   "id": "6174c105-33db-4120-86c3-7cf34bb099b6",
   "metadata": {},
   "outputs": [
    {
     "name": "stdout",
     "output_type": "stream",
     "text": [
      "Index: None\n"
     ]
    }
   ],
   "source": [
    "# Step 8\n",
    "# How the dataset is indexed\n",
    "\n",
    "print(\"Index:\", chipo.index.name)\n"
   ]
  },
  {
   "cell_type": "code",
   "execution_count": 48,
   "id": "5824cae8-d303-43cd-889f-bf46afdb982b",
   "metadata": {},
   "outputs": [
    {
     "name": "stdout",
     "output_type": "stream",
     "text": [
      "Most-ordered item: Chicken Bowl\n"
     ]
    }
   ],
   "source": [
    "# Step 9\n",
    "# Most-ordered item\n",
    "\n",
    "most_ordered_item = chipo[\"item_name\"].mode()[0]\n",
    "print(\"Most-ordered item:\", most_ordered_item)"
   ]
  },
  {
   "cell_type": "code",
   "execution_count": 50,
   "id": "cbedcdf7-e13c-485b-915e-5e1e2493489f",
   "metadata": {},
   "outputs": [
    {
     "name": "stdout",
     "output_type": "stream",
     "text": [
      "Number of most-ordered items: 726\n"
     ]
    }
   ],
   "source": [
    "# Step 10\n",
    "# Number of most-ordered items\n",
    "\n",
    "num_most_ordered_items = chipo[\"item_name\"].value_counts().loc[most_ordered_item]\n",
    "print(\"Number of most-ordered items:\", num_most_ordered_items)"
   ]
  },
  {
   "cell_type": "code",
   "execution_count": 52,
   "id": "bc56abf2-088f-4da9-8592-1580b2ac65d4",
   "metadata": {},
   "outputs": [
    {
     "name": "stdout",
     "output_type": "stream",
     "text": [
      "Most ordered item (choice_description): [Diet Coke]\n"
     ]
    }
   ],
   "source": [
    "# Step 11\n",
    "# Most ordered item (choice_description)\n",
    "\n",
    "most_ordered_choice = chipo[\"choice_description\"].mode()[0]\n",
    "print(\"Most ordered item (choice_description):\", most_ordered_choice)"
   ]
  },
  {
   "cell_type": "code",
   "execution_count": 54,
   "id": "344c276b-6bab-4a3a-b3b7-73e48381f8cb",
   "metadata": {},
   "outputs": [
    {
     "name": "stdout",
     "output_type": "stream",
     "text": [
      "Total items ordered: 4972\n"
     ]
    }
   ],
   "source": [
    "# Step 12\n",
    "# Total items ordered\n",
    "\n",
    "total_items_ordered = chipo[\"quantity\"].sum()\n",
    "print(\"Total items ordered:\", total_items_ordered)\n"
   ]
  },
  {
   "cell_type": "code",
   "execution_count": 56,
   "id": "5da9b150-e758-46e1-af95-744c09ec89d4",
   "metadata": {},
   "outputs": [
    {
     "name": "stdout",
     "output_type": "stream",
     "text": [
      "Item price data type after conversion: float64\n"
     ]
    }
   ],
   "source": [
    "# Step 13\n",
    "# Fixing and converting item price\n",
    "# Remove leading/trailing $ and convert to float\n",
    "\n",
    "# lambda function to clean price\n",
    "dollarizer = lambda x: float(x[1:-1])\n",
    "\n",
    "# Apply the function to the item_price column\n",
    "chipo[\"item_price\"] = chipo[\"item_price\"].apply(dollarizer)\n",
    "\n",
    "# Check the data type of item price\n",
    "print(\"Item price data type after conversion:\", chipo[\"item_price\"].dtype)"
   ]
  },
  {
   "cell_type": "code",
   "execution_count": 67,
   "id": "9271752b-4e15-42f6-a01e-732ac282b368",
   "metadata": {},
   "outputs": [
    {
     "name": "stdout",
     "output_type": "stream",
     "text": [
      "Total revenue: 39237.02\n"
     ]
    }
   ],
   "source": [
    "# Step 14\n",
    "# Revenue for the period\n",
    "\n",
    "revenue = (chipo[\"quantity\"] * chipo[\"item_price\"]).sum()\n",
    "print(\"Total revenue:\", revenue)"
   ]
  },
  {
   "cell_type": "code",
   "execution_count": 60,
   "id": "0e13c55e-48a4-448a-ace0-d0ecd7ad7e2f",
   "metadata": {},
   "outputs": [
    {
     "name": "stdout",
     "output_type": "stream",
     "text": [
      "Number of orders: 1834\n"
     ]
    }
   ],
   "source": [
    "# Step 15\n",
    "# Number of orders\n",
    "\n",
    "num_orders = chipo[\"order_id\"].nunique()\n",
    "print(\"Number of orders:\", num_orders)"
   ]
  },
  {
   "cell_type": "code",
   "execution_count": 62,
   "id": "f19b1b42-e510-4dd4-91fa-cc3b830bc043",
   "metadata": {},
   "outputs": [
    {
     "name": "stdout",
     "output_type": "stream",
     "text": [
      "Average revenue per order: 21.39423118865867\n"
     ]
    }
   ],
   "source": [
    "# Step 16\n",
    "# Average revenue per order\n",
    "\n",
    "avg_revenue_per_order = revenue / num_orders\n",
    "print(\"Average revenue per order:\", avg_revenue_per_order)"
   ]
  },
  {
   "cell_type": "code",
   "execution_count": 69,
   "id": "e1f4edc0-d69a-42b1-8046-585b16db3d00",
   "metadata": {},
   "outputs": [
    {
     "name": "stdout",
     "output_type": "stream",
     "text": [
      "Number of different items sold: 50\n"
     ]
    }
   ],
   "source": [
    "# Step 17\n",
    "# Number of different items sold\n",
    "\n",
    "num_items_sold = chipo[\"item_name\"].nunique()\n",
    "print(\"Number of different items sold:\", num_items_sold)"
   ]
  },
  {
   "cell_type": "code",
   "execution_count": null,
   "id": "5261eaae-3bda-4cec-8906-a0e20a793763",
   "metadata": {},
   "outputs": [],
   "source": []
  },
  {
   "cell_type": "code",
   "execution_count": null,
   "id": "a5a32025-2cce-4ef3-848a-664eb6aca01c",
   "metadata": {},
   "outputs": [],
   "source": []
  }
 ],
 "metadata": {
  "kernelspec": {
   "display_name": "anaconda-2024.02-py310",
   "language": "python",
   "name": "conda-env-anaconda-2024.02-py310-py"
  },
  "language_info": {
   "codemirror_mode": {
    "name": "ipython",
    "version": 3
   },
   "file_extension": ".py",
   "mimetype": "text/x-python",
   "name": "python",
   "nbconvert_exporter": "python",
   "pygments_lexer": "ipython3",
   "version": "3.10.14"
  }
 },
 "nbformat": 4,
 "nbformat_minor": 5
}
